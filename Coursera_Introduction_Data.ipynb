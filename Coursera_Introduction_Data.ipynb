{
 "cells": [
  {
   "cell_type": "markdown",
   "metadata": {},
   "source": [
    "# <center> __<font color='blue'>Business Investigation of the Houston Neighborhoods__</font> </center>"
   ]
  },
  {
   "cell_type": "markdown",
   "metadata": {},
   "source": [
    "## <center> Yong Chang </center>"
   ]
  },
  {
   "cell_type": "markdown",
   "metadata": {},
   "source": [
    "## <center> September 30, 2019 </center>"
   ]
  },
  {
   "cell_type": "markdown",
   "metadata": {},
   "source": [
    "## **1. Introduction**"
   ]
  },
  {
   "cell_type": "markdown",
   "metadata": {},
   "source": [
    "#### **1.1 Background**"
   ]
  },
  {
   "cell_type": "markdown",
   "metadata": {},
   "source": [
    "\n",
    "The city of Houston is a large city in Texas. It is the fourth most populous city in the United States. Houston's economy since the late 20th century has a broad industrial base in energy, manufacturing, aeronautics, and transportation. \n",
    "\n",
    "Houston is the largest city in the United States by total area, whose government is not consolidated with that of a county, parish or borough. It has many neighborhoods. and it has been described as the most racially and ethnically diverse major metropolis in the U.S.A. It is home to many cultural institutions, restaurants and exhibits, Everyday many people come to Houston for business, traveling, shopping, etc."
   ]
  },
  {
   "cell_type": "markdown",
   "metadata": {},
   "source": [
    "#### **1.2 Business Problem**"
   ]
  },
  {
   "cell_type": "markdown",
   "metadata": {},
   "source": [
    "Houston is so big. It is good to segment and cluster the neighborhoods, so people can quickly know what's the features of different neighborhoods, and they can find places to eat, shop, visit, or for other purposes. This project will investigate the venues of all the neighborhoods of Houston and make a report of that.\n",
    "  "
   ]
  },
  {
   "cell_type": "markdown",
   "metadata": {},
   "source": [
    "#### **1.3 Interest**"
   ]
  },
  {
   "cell_type": "markdown",
   "metadata": {},
   "source": [
    "Many people come to Houston over the world. They want to know more about the city before they arrive. This investigation will be very useful for them to get familiar with the city and plan for their trip. In addition, the local people living in Houston can get benefits for exploring their home city with the results of this report, and they can enjoy more about this great city."
   ]
  },
  {
   "cell_type": "markdown",
   "metadata": {},
   "source": [
    "## **2. Data Acquisition**"
   ]
  },
  {
   "cell_type": "markdown",
   "metadata": {},
   "source": [
    "#### **2.1 Data Sources**"
   ]
  },
  {
   "cell_type": "markdown",
   "metadata": {},
   "source": [
    "This project will first download the neighborhoods information from the Wikipedia page. Next use the Geocoder Python package to get the latitude and the longitude coordinates of each neighborhood. Then use the Foursquare to explore and cluster the neighborhoods. The venues will be checked. And finally the project will cluster the neighborhoods into certain groups. \n",
    "\n",
    "The data acquisition steps are:\n",
    "1. Get the neighborhood names from the Wikipedia page of Houston.\n",
    "2. Use the Geocoder Python package to get the latitude and the longitude coordinates of each neighborhood.\n",
    "3. Use the Foursquare to collect the venues of the neighborhoods."
   ]
  },
  {
   "cell_type": "code",
   "execution_count": null,
   "metadata": {},
   "outputs": [],
   "source": []
  }
 ],
 "metadata": {
  "kernelspec": {
   "display_name": "Python",
   "language": "python",
   "name": "conda-env-python-py"
  },
  "language_info": {
   "codemirror_mode": {
    "name": "ipython",
    "version": 3
   },
   "file_extension": ".py",
   "mimetype": "text/x-python",
   "name": "python",
   "nbconvert_exporter": "python",
   "pygments_lexer": "ipython3",
   "version": "3.6.7"
  }
 },
 "nbformat": 4,
 "nbformat_minor": 4
}
